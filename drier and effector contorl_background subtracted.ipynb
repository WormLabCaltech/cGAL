{
 "cells": [
  {
   "cell_type": "code",
   "execution_count": 1,
   "metadata": {
    "collapsed": true
   },
   "outputs": [],
   "source": [
    "import matplotlib.pyplot as plt\n",
    "import numpy as np\n",
    "import pandas as pd\n",
    "\n",
    "import seaborn as sns\n",
    "rc={'lines.linewidth': 2, 'axes.labelsize': 14, 'axes.titlesize': 14}\n",
    "sns.set(rc=rc)\n",
    "\n",
    "\n",
    "%matplotlib inline"
   ]
  },
  {
   "cell_type": "code",
   "execution_count": 2,
   "metadata": {
    "collapsed": false
   },
   "outputs": [
    {
     "data": {
      "text/html": [
       "<div>\n",
       "<table border=\"1\" class=\"dataframe\">\n",
       "  <thead>\n",
       "    <tr style=\"text-align: right;\">\n",
       "      <th></th>\n",
       "      <th>K1N</th>\n",
       "      <th>ISHW351-2</th>\n",
       "      <th>syIs300</th>\n",
       "      <th>ISHW334-3</th>\n",
       "    </tr>\n",
       "  </thead>\n",
       "  <tbody>\n",
       "    <tr>\n",
       "      <th>0</th>\n",
       "      <td>7.456980</td>\n",
       "      <td>10327.956610</td>\n",
       "      <td>17.084257</td>\n",
       "      <td>9182.116084</td>\n",
       "    </tr>\n",
       "    <tr>\n",
       "      <th>1</th>\n",
       "      <td>4.951350</td>\n",
       "      <td>12989.338110</td>\n",
       "      <td>10.382119</td>\n",
       "      <td>10618.014370</td>\n",
       "    </tr>\n",
       "    <tr>\n",
       "      <th>2</th>\n",
       "      <td>4.702167</td>\n",
       "      <td>14797.692060</td>\n",
       "      <td>15.118900</td>\n",
       "      <td>8043.155039</td>\n",
       "    </tr>\n",
       "    <tr>\n",
       "      <th>3</th>\n",
       "      <td>4.376589</td>\n",
       "      <td>8648.279922</td>\n",
       "      <td>11.010611</td>\n",
       "      <td>7296.286660</td>\n",
       "    </tr>\n",
       "    <tr>\n",
       "      <th>4</th>\n",
       "      <td>3.064479</td>\n",
       "      <td>11488.385150</td>\n",
       "      <td>9.675050</td>\n",
       "      <td>5535.547171</td>\n",
       "    </tr>\n",
       "  </tbody>\n",
       "</table>\n",
       "</div>"
      ],
      "text/plain": [
       "        K1N     ISHW351-2    syIs300     ISHW334-3\n",
       "0  7.456980  10327.956610  17.084257   9182.116084\n",
       "1  4.951350  12989.338110  10.382119  10618.014370\n",
       "2  4.702167  14797.692060  15.118900   8043.155039\n",
       "3  4.376589   8648.279922  11.010611   7296.286660\n",
       "4  3.064479  11488.385150   9.675050   5535.547171"
      ]
     },
     "execution_count": 2,
     "metadata": {},
     "output_type": "execute_result"
    }
   ],
   "source": [
    "#read in\n",
    "\n",
    "df = pd.read_csv('driver and effector control_background subtracted formatted.csv', comment = '#')\n",
    "df.head()"
   ]
  },
  {
   "cell_type": "code",
   "execution_count": 3,
   "metadata": {
    "collapsed": false
   },
   "outputs": [
    {
     "data": {
      "text/html": [
       "<div>\n",
       "<table border=\"1\" class=\"dataframe\">\n",
       "  <thead>\n",
       "    <tr style=\"text-align: right;\">\n",
       "      <th></th>\n",
       "      <th>genotype</th>\n",
       "      <th>fluo</th>\n",
       "    </tr>\n",
       "  </thead>\n",
       "  <tbody>\n",
       "    <tr>\n",
       "      <th>0</th>\n",
       "      <td>K1N</td>\n",
       "      <td>7.456980</td>\n",
       "    </tr>\n",
       "    <tr>\n",
       "      <th>1</th>\n",
       "      <td>K1N</td>\n",
       "      <td>4.951350</td>\n",
       "    </tr>\n",
       "    <tr>\n",
       "      <th>2</th>\n",
       "      <td>K1N</td>\n",
       "      <td>4.702167</td>\n",
       "    </tr>\n",
       "    <tr>\n",
       "      <th>3</th>\n",
       "      <td>K1N</td>\n",
       "      <td>4.376589</td>\n",
       "    </tr>\n",
       "    <tr>\n",
       "      <th>4</th>\n",
       "      <td>K1N</td>\n",
       "      <td>3.064479</td>\n",
       "    </tr>\n",
       "  </tbody>\n",
       "</table>\n",
       "</div>"
      ],
      "text/plain": [
       "  genotype      fluo\n",
       "0      K1N  7.456980\n",
       "1      K1N  4.951350\n",
       "2      K1N  4.702167\n",
       "3      K1N  4.376589\n",
       "4      K1N  3.064479"
      ]
     },
     "execution_count": 3,
     "metadata": {},
     "output_type": "execute_result"
    }
   ],
   "source": [
    "df2 = pd.melt(df, value_vars = list(df.columns), var_name = 'genotype', value_name = 'fluo')\n",
    "df2.dropna(inplace = True)\n",
    "df_tidy = df2.reset_index(drop = True)\n",
    "df_tidy.head()"
   ]
  },
  {
   "cell_type": "code",
   "execution_count": 4,
   "metadata": {
    "collapsed": false
   },
   "outputs": [
    {
     "data": {
      "text/plain": [
       "<matplotlib.axes._subplots.AxesSubplot at 0x24e2d96828>"
      ]
     },
     "execution_count": 4,
     "metadata": {},
     "output_type": "execute_result"
    },
    {
     "data": {
      "image/png": "[encoded data removed]",
      "text/plain": [
       "<matplotlib.figure.Figure at 0x24e2d6cb38>"
      ]
     },
     "metadata": {},
     "output_type": "display_data"
    }
   ],
   "source": [
    "sns.stripplot(data = df_tidy, x = 'genotype', y = 'fluo', jitter = True)\n"
   ]
  },
  {
   "cell_type": "markdown",
   "metadata": {},
   "source": [
    "#### "
   ]
  },
  {
   "cell_type": "code",
   "execution_count": 8,
   "metadata": {
    "collapsed": false
   },
   "outputs": [
    {
     "data": {
      "image/png": "[encoded data removed]",
      "text/plain": [
       "<matplotlib.figure.Figure at 0x24e348c9b0>"
      ]
     },
     "metadata": {},
     "output_type": "display_data"
    }
   ],
   "source": [
    "#### \n",
    "x= np.random.normal(1, .05, len(df_tidy.loc[df_tidy['genotype'] == 'K1N']))\n",
    "x1= np.random.normal(2, .05, len(df_tidy.loc[df_tidy['genotype'] == 'ISHW351-2']))\n",
    "x2= np.random.normal(3, .05, len(df_tidy.loc[df_tidy['genotype'] == 'syIs300']))\n",
    "x3= np.random.normal(4, .05, len(df_tidy.loc[df_tidy['genotype'] == 'ISHW334-3']))\n",
    "xs = [x, x1, x2, x3]\n",
    "y= df_tidy.loc[df_tidy['genotype'] == 'K1N'].fluo\n",
    "y1= df_tidy.loc[df_tidy['genotype'] == 'ISHW351-2'].fluo\n",
    "y2= df_tidy.loc[df_tidy['genotype'] == 'syIs300'].fluo\n",
    "y3= df_tidy.loc[df_tidy['genotype'] == 'ISHW334-3'].fluo\n",
    "ys = [y, y1, y2, y3]\n",
    "yy = []\n",
    "for f in ys:\n",
    "    yy.append(f/1000)\n",
    "##for iterative plotting\n",
    "#for a, b in zip(xs, ys):\n",
    "#    plt.plot(a, b, 'o', color= '#f08073', alpha= .7, zorder = 1)\n",
    "\n",
    "plt.plot(x, yy[0], 'o', color= '#4a4bff', alpha= .5, zorder = 1, ms = 9)\n",
    "plt.plot(x1, yy[1], 'o', color= '#4a4bff', alpha= .5, zorder = 1, ms = 9)\n",
    "plt.plot(x2, yy[2], 'o', color= '#4a4bff', alpha= .5, zorder = 1, ms = 9)\n",
    "plt.plot(x3, yy[3], 'o', color= '#4a4bff', alpha= .4, zorder = 1, ms = 9)\n",
    "\n",
    "bardelta = 0.25\n",
    "for j in range(len(yy)):\n",
    "    plt.hlines(yy[j].mean(), xmin = j+1-bardelta, \n",
    "               xmax = j+1+bardelta, lw = 3, zorder = 3)\n",
    "    plt.errorbar(j+1, yy[j].mean(), yerr=yy[j].sem(), fmt = '-',\n",
    "             ecolor = 'black', capsize = 0, elinewidth  = 3, \n",
    "             barsabove = True, zorder = 2)\n",
    "\n",
    "# to set x labels\n",
    "plt.gca().set_xticks(np.arange(6))\n",
    "labels= ['', 'K1N', 'ISHW351-2', 'syIs300', 'ISHW334-3', '']\n",
    "plt.gca().set_xticklabels(labels, fontsize = 14)\n",
    "\n",
    "plt.ylim(-0.5, 16)\n",
    "plt.ylabel('Fluorescence Intensity (x$10^3$ a.u.)', fontsize = 14)\n",
    "plt.gca().tick_params(axis= 'y', labelsize = 14)\n",
    "\n",
    "#saves in currrent directory\n",
    "# plt.savefig('figS3.pdf')\n",
    "plt.show()\n",
    "plt.close()"
   ]
  },
  {
   "cell_type": "code",
   "execution_count": null,
   "metadata": {
    "collapsed": true
   },
   "outputs": [],
   "source": []
  }
 ],
 "metadata": {
  "anaconda-cloud": {},
  "kernelspec": {
   "display_name": "Python [Root]",
   "language": "python",
   "name": "Python [Root]"
  },
  "language_info": {
   "codemirror_mode": {
    "name": "ipython",
    "version": 3
   },
   "file_extension": ".py",
   "mimetype": "text/x-python",
   "name": "python",
   "nbconvert_exporter": "python",
   "pygments_lexer": "ipython3",
   "version": "3.5.2"
  }
 },
 "nbformat": 4,
 "nbformat_minor": 0
}
